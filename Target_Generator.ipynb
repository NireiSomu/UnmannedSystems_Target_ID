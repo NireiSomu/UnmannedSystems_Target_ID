{
 "cells": [
  {
   "cell_type": "markdown",
   "id": "7b8dac8a-a50c-4291-a2b9-ab7db18d4e1b",
   "metadata": {},
   "source": [
    "Target Example Generator for Model Training"
   ]
  },
  {
   "cell_type": "markdown",
   "id": "a7b28934-48d0-4521-8cc8-9f0be6b430dd",
   "metadata": {},
   "source": [
    "Sources:\n",
    "https://github.com/kahngjoonkoh/RandomShapeGenerator/blob/main/main.py\n"
   ]
  },
  {
   "cell_type": "code",
   "execution_count": null,
   "id": "d61fdea9-2f1e-4326-b402-7ec551ffdbb0",
   "metadata": {},
   "outputs": [],
   "source": []
  }
 ],
 "metadata": {
  "kernelspec": {
   "display_name": "Python 3 (ipykernel)",
   "language": "python",
   "name": "python3"
  },
  "language_info": {
   "codemirror_mode": {
    "name": "ipython",
    "version": 3
   },
   "file_extension": ".py",
   "mimetype": "text/x-python",
   "name": "python",
   "nbconvert_exporter": "python",
   "pygments_lexer": "ipython3",
   "version": "3.11.7"
  }
 },
 "nbformat": 4,
 "nbformat_minor": 5
}
